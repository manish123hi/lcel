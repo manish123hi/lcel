{
 "cells": [
  {
   "cell_type": "code",
   "execution_count": 1,
   "metadata": {},
   "outputs": [],
   "source": [
    "import getpass\n",
    "import os\n",
    "\n",
    "if \"GROQ_API_KEY\" not in os.environ:\n",
    "    os.environ[\"GROQ_API_KEY\"] = getpass.getpass(\"Enter your Groq API key: \")"
   ]
  },
  {
   "cell_type": "code",
   "execution_count": 2,
   "metadata": {},
   "outputs": [
    {
     "name": "stdout",
     "output_type": "stream",
     "text": [
      "Note: you may need to restart the kernel to use updated packages.\n"
     ]
    },
    {
     "name": "stderr",
     "output_type": "stream",
     "text": [
      "WARNING: Ignoring invalid distribution -rotobuf (c:\\users\\nc\\appdata\\roaming\\python\\python310\\site-packages)\n",
      "WARNING: Ignoring invalid distribution -ensorflow-intel (c:\\users\\nc\\appdata\\roaming\\python\\python310\\site-packages)\n",
      "WARNING: Ignoring invalid distribution -rotobuf (c:\\users\\nc\\appdata\\roaming\\python\\python310\\site-packages)\n",
      "WARNING: Ignoring invalid distribution -ensorflow-intel (c:\\users\\nc\\appdata\\roaming\\python\\python310\\site-packages)\n",
      "WARNING: Ignoring invalid distribution -rotobuf (c:\\users\\nc\\appdata\\roaming\\python\\python310\\site-packages)\n",
      "WARNING: Ignoring invalid distribution -ensorflow-intel (c:\\users\\nc\\appdata\\roaming\\python\\python310\\site-packages)\n",
      "WARNING: Ignoring invalid distribution -rotobuf (c:\\users\\nc\\appdata\\roaming\\python\\python310\\site-packages)\n",
      "WARNING: Ignoring invalid distribution -ensorflow-intel (c:\\users\\nc\\appdata\\roaming\\python\\python310\\site-packages)\n",
      "WARNING: Ignoring invalid distribution -rotobuf (c:\\users\\nc\\appdata\\roaming\\python\\python310\\site-packages)\n",
      "WARNING: Ignoring invalid distribution -ensorflow-intel (c:\\users\\nc\\appdata\\roaming\\python\\python310\\site-packages)\n",
      "WARNING: Ignoring invalid distribution -rotobuf (c:\\users\\nc\\appdata\\roaming\\python\\python310\\site-packages)\n",
      "WARNING: Ignoring invalid distribution -ensorflow-intel (c:\\users\\nc\\appdata\\roaming\\python\\python310\\site-packages)\n"
     ]
    }
   ],
   "source": [
    "%pip install -qU langchain-groq"
   ]
  },
  {
   "cell_type": "code",
   "execution_count": 32,
   "metadata": {},
   "outputs": [],
   "source": [
    "from langchain_groq import ChatGroq\n",
    "\n",
    "llm = ChatGroq(\n",
    "    model=\"mixtral-8x7b-32768\",\n",
    "    temperature=0,\n",
    "    max_tokens=None,\n",
    "    timeout=None,\n",
    "    max_retries=2,\n",
    "    # other params...\n",
    ")"
   ]
  },
  {
   "cell_type": "code",
   "execution_count": 5,
   "metadata": {},
   "outputs": [
    {
     "data": {
      "text/plain": [
       "AIMessage(content='Sure, I\\'d be happy to help you translate that sentence into German!\\n\\nThe English sentence \"I love programming\" can be translated into German as \"Ich liebe Programmieren\".\\n\\nHere\\'s the breakdown of the translation:\\n\\n* \"I\" is translated as \"Ich\"\\n* \"love\" is translated as \"liebe\"\\n* \"programming\" is translated as \"Programmieren\"\\n\\nSo, the complete translation is \"Ich liebe Programmieren\". I hope that helps! Let me know if you have any other questions or if you\\'d like me to translate anything else for you.', additional_kwargs={}, response_metadata={'token_usage': {'completion_tokens': 137, 'prompt_tokens': 31, 'total_tokens': 168, 'completion_time': 0.221949975, 'prompt_time': 0.003283495, 'queue_time': 0.010400875, 'total_time': 0.22523347}, 'model_name': 'mixtral-8x7b-32768', 'system_fingerprint': 'fp_c5f20b5bb1', 'finish_reason': 'stop', 'logprobs': None}, id='run-30d19ad4-a940-4c12-9e11-2bfd6057e773-0', usage_metadata={'input_tokens': 31, 'output_tokens': 137, 'total_tokens': 168})"
      ]
     },
     "execution_count": 5,
     "metadata": {},
     "output_type": "execute_result"
    }
   ],
   "source": [
    "messages = [\n",
    "    (\n",
    "        \"system\",\n",
    "        \"You are a helpful assistant that translates English to german. Translate the user sentence.\",\n",
    "    ),\n",
    "    (\"human\", \"I love programming.\"),\n",
    "]\n",
    "ai_msg = llm.invoke(messages)\n",
    "ai_msg"
   ]
  },
  {
   "cell_type": "code",
   "execution_count": 10,
   "metadata": {},
   "outputs": [
    {
     "data": {
      "text/plain": [
       "AIMessage(content='Hello Manish, wie geht es dir. (Hello Manish, how are you)', additional_kwargs={}, response_metadata={'token_usage': {'completion_tokens': 20, 'prompt_tokens': 29, 'total_tokens': 49, 'completion_time': 0.030784876, 'prompt_time': 0.003113367, 'queue_time': 0.011047962, 'total_time': 0.033898243}, 'model_name': 'mixtral-8x7b-32768', 'system_fingerprint': 'fp_c5f20b5bb1', 'finish_reason': 'stop', 'logprobs': None}, id='run-31bb03c6-5ab9-4ff8-b76b-7399f9dab7a4-0', usage_metadata={'input_tokens': 29, 'output_tokens': 20, 'total_tokens': 49})"
      ]
     },
     "execution_count": 10,
     "metadata": {},
     "output_type": "execute_result"
    }
   ],
   "source": [
    "from langchain_core.prompts import ChatPromptTemplate\n",
    "\n",
    "prompt = ChatPromptTemplate.from_messages(\n",
    "    [\n",
    "        (\n",
    "            \"system\",\n",
    "            \"You are a helpful assistant that translates {input_language} to {output_language}.\",\n",
    "        ),\n",
    "        (\"human\", \"{input}\"),\n",
    "    ]\n",
    ")\n",
    "\n",
    "chain = prompt | llm \n",
    "chain.invoke(\n",
    "    {\n",
    "        \"input_language\": \"English\",\n",
    "        \"output_language\": \"German\",\n",
    "        \"input\": \"hello manish, how are you.\",\n",
    "    }\n",
    ")"
   ]
  },
  {
   "cell_type": "code",
   "execution_count": 45,
   "metadata": {},
   "outputs": [
    {
     "data": {
      "text/plain": [
       "\"Sure, here's an interesting fact about Nepal:\\n\\nNepal is the only country in the world that has a non-rectangular flag. The flag of Nepal is made up of two pennants stacked on top of each other, with the upper pennant slightly smaller. The top pennant is crimson red with a white stylized moon, and the bottom pennant is also crimson red with a white 12-pointed sun. The flag's design is said to represent the different branches of the government and the country's two major religions, Hinduism and Buddhism.\""
      ]
     },
     "execution_count": 45,
     "metadata": {},
     "output_type": "execute_result"
    }
   ],
   "source": [
    "from langchain_core.output_parsers import StrOutputParser\n",
    "prompt = ChatPromptTemplate.from_template(\"tell me fact of {query}\")\n",
    "output_parser = StrOutputParser()\n",
    "\n",
    "chain = prompt | llm | output_parser\n",
    "chain.invoke({\"query\":\"nepal\"})"
   ]
  },
  {
   "cell_type": "code",
   "execution_count": 40,
   "metadata": {},
   "outputs": [
    {
     "data": {
      "text/plain": [
       "'Cristiano Ronaldo, the famous Portuguese soccer player, has an unusual goal celebration dance called the \"siuuu\" celebration. He performs this dance by running to the corner of the field, skidding to a stop, and then jumping and spinning in the air while making a high-pitched \"siuuu\" sound. Ronaldo has said that he came up with the celebration while playing video games, and he has been doing it on the soccer field since 2018. It has become a signature move for him and is instantly recognizable to soccer fans around the world.'"
      ]
     },
     "execution_count": 40,
     "metadata": {},
     "output_type": "execute_result"
    }
   ],
   "source": [
    "prompt = ChatPromptTemplate.from_template(\"tell me a curious fact about {soccer_player}\")\n",
    "\n",
    "output_parser = StrOutputParser()\n",
    "\n",
    "chain = prompt | llm | output_parser\n",
    "\n",
    "chain.invoke({\"soccer_player\": \"Ronaldo\"})"
   ]
  },
  {
   "cell_type": "code",
   "execution_count": 49,
   "metadata": {},
   "outputs": [
    {
     "name": "stdout",
     "output_type": "stream",
     "text": [
      "Cristiano Ronaldo is a professional soccer player who is widely regarded as one of the greatest players of all time. Here are a few facts about him:\n",
      "\n",
      "* He was born on February 5, 1985 in Funchal, Madeira, Portugal.\n",
      "* He began his professional career with Sporting CP in 2002, and joined Manchester United in 2003.\n",
      "* He has won numerous individual awards, including five Ballon d'Or awards, which are given annually to the world's best soccer player.\n",
      "* He has played for some of the biggest clubs in the world, including Manchester United, Real Madrid, and Juventus.\n",
      "* He has also played for the Portuguese national team, and is the country's all-time leading scorer.\n",
      "* He has scored over 700 career goals for club and country.\n",
      "* He is known for his incredible athleticism, skill, and goal-scoring ability.\n",
      "* He is also known for his philanthropy, and has established a number of charities to support various causes.\n",
      "\n",
      "I hope this information is helpful! Let me know if you have any other questions."
     ]
    }
   ],
   "source": [
    "for s in chain.stream({\"query\": \"Ronaldo\"}):\n",
    "    print(s, end=\"\", flush=True)"
   ]
  },
  {
   "cell_type": "code",
   "execution_count": 58,
   "metadata": {},
   "outputs": [
    {
     "name": "stdout",
     "output_type": "stream",
     "text": [
      "I'm assuming you're asking for a fact about Manish Paul, who is a popular Indian television host, actor, and anchor.\n",
      "\n",
      "Here's a fact about him: Manish Paul started his career as a radio jockey (RJ) with Radio City in Delhi. He then moved on to hosting various television shows, including Dance India Dance Li'l Masters, Jhalak Dikhhla Jaa, and Indian Idol Junior. He made his acting debut in the movie Mickey Virus in 2013 and has since appeared in several Bollywood films. Manish Paul is known for his energetic and entertaining hosting style and has won several awards for his work in the television industry.\"Karki\" is a surname that originates from the Indian subcontinent, particularly in Nepal and India. It is a common surname among the Brahmin caste, which is the highest caste in the Hindu caste system. The name \"Karki\" is derived from the Sanskrit word \"Karaka,\" which means \"doer\" or \"agent.\"\n",
      "\n",
      "There are several notable people with the surname \"Karki,\" including:\n",
      "\n",
      "1. Bijay Kumar Karki - a former Chief Justice of Nepal.\n",
      "2. Gyanendra Karki - a Nepalese footballer who has played for the national team.\n",
      "3. Kul Bahadur Karki - a former Inspector General of Police in Nepal.\n",
      "4. Nabin Karki - a Nepalese singer and songwriter.\n",
      "5. Purna Chandra Karki - a former Prime Minister of Nepal.\n",
      "\n",
      "It's worth noting that \"Karki\" is not a common first name and is usually used as a surname."
     ]
    }
   ],
   "source": [
    "for s in chain.batch([{\"query\":\"manish\"},{\"query\":\"karki\"}]):\n",
    "    print(s, end=\"\", flush=True)"
   ]
  },
  {
   "cell_type": "code",
   "execution_count": null,
   "metadata": {},
   "outputs": [],
   "source": []
  }
 ],
 "metadata": {
  "kernelspec": {
   "display_name": "base",
   "language": "python",
   "name": "python3"
  },
  "language_info": {
   "codemirror_mode": {
    "name": "ipython",
    "version": 3
   },
   "file_extension": ".py",
   "mimetype": "text/x-python",
   "name": "python",
   "nbconvert_exporter": "python",
   "pygments_lexer": "ipython3",
   "version": "3.10.9"
  }
 },
 "nbformat": 4,
 "nbformat_minor": 2
}
